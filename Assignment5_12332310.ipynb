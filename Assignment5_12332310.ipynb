{
 "cells": [
  {
   "cell_type": "markdown",
   "id": "eddb02eb",
   "metadata": {},
   "source": [
    "Assignment 5 (due on 12/20)\n",
    "\n",
    "Student：宋雨璇（12332310），Gtihub：zai-song\n",
    "\n",
    "批改人：赵淑慧\n",
    "\n",
    "得分：33/40\n",
    "\n",
    "Bonus：7/15"
   ]
  },
  {
   "cell_type": "markdown",
   "id": "51b73328",
   "metadata": {},
   "source": [
    "1.1 13/15 gamma不需要再乘3.664，因为之后除以2.13的操作已经包含了从C到CO2的转换\n",
    "\n",
    "1.2 17/20 同上；x的计算式不正确，C是表层海洋的无机碳浓度，N2是表层海洋的总碳量，两者不相同，应采用算式A9\n",
    "\n",
    "1.3 3/5 数据匹配有误，计算得到的数据是从1987年开始的，不应匹配到1986年，导致后面的数据都前移了一年\n",
    "\n",
    "Bonus 7/15 N2_0应为821而不是289*2.13，N2_0是前工业化时代表层海洋的平衡碳量，而289是前工业化时代大气中的CO2浓度；N1不应为740而应为615，且Fig3中的数据都是1750年的数据，而不是1959年的数据；dn7计算式有误"
   ]
  }
 ],
 "metadata": {
  "kernelspec": {
   "display_name": "Python 3 (ipykernel)",
   "language": "python",
   "name": "python3"
  },
  "language_info": {
   "codemirror_mode": {
    "name": "ipython",
    "version": 3
   },
   "file_extension": ".py",
   "mimetype": "text/x-python",
   "name": "python",
   "nbconvert_exporter": "python",
   "pygments_lexer": "ipython3",
   "version": "3.8.8"
  }
 },
 "nbformat": 4,
 "nbformat_minor": 5
}
